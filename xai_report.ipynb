{
 "cells": [
  {
   "cell_type": "code",
   "execution_count": 1,
   "metadata": {},
   "outputs": [],
   "source": [
    "import pandas as pd\n",
    "import numpy as np\n",
    "\n",
    "# Load CSV\n",
    "df = pd.read_csv(\"xai_analysis_heatmaps.csv\")\n",
    "\n",
    "# Clean column names for convenience\n",
    "df.columns = df.columns.str.strip().str.lower().str.replace(' ', '_')"
   ]
  },
  {
   "cell_type": "code",
   "execution_count": 5,
   "metadata": {},
   "outputs": [
    {
     "name": "stdout",
     "output_type": "stream",
     "text": [
      "                      label  Avg Lime  Avg GradCAM  Avg IG  Avg Total  \\\n",
      "0     Bacterial Leaf Blight     0.383        0.817   0.717      0.639   \n",
      "1     Bacterial Leaf Streak     0.467        0.633   0.792      0.631   \n",
      "2  Bacterial Panicle Blight     0.267        0.533   0.950      0.583   \n",
      "3                     Blast     0.505        0.632   0.774      0.637   \n",
      "4                Brown Spot     0.475        0.556   0.693      0.574   \n",
      "5                Dead Heart     0.431        0.456   0.912      0.600   \n",
      "6              Downy Mildew     0.415        0.620   0.640      0.558   \n",
      "7                     Hispa     0.457        0.700   0.729      0.629   \n",
      "8                    Tungro     0.328        0.539   0.833      0.567   \n",
      "9                     Total     0.427        0.597   0.771      0.598   \n",
      "\n",
      "   Non-Aug Total  Aug Total  \n",
      "0          0.633      0.644  \n",
      "1          0.622      0.639  \n",
      "2          0.600      0.567  \n",
      "3          0.607      0.663  \n",
      "4          0.592      0.556  \n",
      "5          0.625      0.575  \n",
      "6          0.533      0.583  \n",
      "7          0.622      0.633  \n",
      "8          0.493      0.641  \n",
      "9          0.583      0.613  \n"
     ]
    }
   ],
   "source": [
    "# Pivot to have one column per heatmap type (include augmentation!)\n",
    "pivot_df = df.pivot_table(index=['image_id', 'label', 'augmentation'],\n",
    "                          columns='heatmap',\n",
    "                          values='score',\n",
    "                          aggfunc='first').reset_index()\n",
    "\n",
    "# Rename for convenience\n",
    "pivot_df = pivot_df.rename(columns={\n",
    "    'Lime': 'lime',\n",
    "    'GradCAM': 'gradcam',\n",
    "    'Integrated Gradients': 'ig'\n",
    "})\n",
    "\n",
    "# Calculate average across heatmaps\n",
    "pivot_df['total'] = pivot_df[['lime', 'gradcam', 'ig']].mean(axis=1)\n",
    "\n",
    "# Average per class for all scores (LIME, GradCAM, IG, total)\n",
    "overall_avg = pivot_df.groupby('label')[['lime', 'gradcam', 'ig', 'total']].mean().reset_index()\n",
    "overall_avg.columns = ['label', 'Avg Lime', 'Avg GradCAM', 'Avg IG', 'Avg Total']\n",
    "\n",
    "# Augmented vs Non-Augmented total comparison per class\n",
    "aug_totals = pivot_df.groupby(['label', 'augmentation'])['total'].mean().unstack()\n",
    "aug_totals.columns = ['Non-Aug Total', 'Aug Total']\n",
    "aug_totals = aug_totals.reset_index()\n",
    "\n",
    "# Merge them\n",
    "final_agg = pd.merge(overall_avg, aug_totals, on='label')\n",
    "\n",
    "# Add final total row\n",
    "total_row = pd.DataFrame({\n",
    "    'label': ['Total'],\n",
    "    'Avg Lime': [pivot_df['lime'].mean()],\n",
    "    'Avg GradCAM': [pivot_df['gradcam'].mean()],\n",
    "    'Avg IG': [pivot_df['ig'].mean()],\n",
    "    'Avg Total': [pivot_df['total'].mean()],\n",
    "    'Non-Aug Total': [pivot_df[pivot_df['augmentation'] == 'No']['total'].mean()],\n",
    "    'Aug Total': [pivot_df[pivot_df['augmentation'] == 'Yes']['total'].mean()],\n",
    "})\n",
    "\n",
    "# Concatenate\n",
    "final_agg = pd.concat([final_agg, total_row], ignore_index=True)\n",
    "\n",
    "# Round for clean display\n",
    "print(final_agg.round(3))"
   ]
  },
  {
   "cell_type": "code",
   "execution_count": 6,
   "metadata": {},
   "outputs": [
    {
     "name": "stdout",
     "output_type": "stream",
     "text": [
      "Average Score Comparison:\n",
      "                      Average (No Aug)  Average (Yes Aug)  Difference\n",
      "heatmap                                                              \n",
      "GradCAM                       0.595161           0.598462    0.003300\n",
      "Integrated Gradients          0.746774           0.795312    0.048538\n",
      "Lime                          0.406452           0.446154    0.039702\n",
      "\n",
      "Median Score Comparison:\n",
      "                      Median (No Aug)  Median (Yes Aug)  Difference\n",
      "heatmap                                                            \n",
      "GradCAM                          0.60               0.6        0.00\n",
      "Integrated Gradients             0.75               0.8        0.05\n",
      "Lime                             0.40               0.4        0.00\n"
     ]
    }
   ],
   "source": [
    "# Ensure key columns are categorical\n",
    "categorical_cols = ['study', 'label', 'prediction', 'status', 'augmentation', 'heatmap']\n",
    "df[categorical_cols] = df[categorical_cols].astype('category')\n",
    "\n",
    "# Group by augmentation and heatmap, compute mean/median score\n",
    "aug_stats = df.groupby(['augmentation', 'heatmap'])['score'].agg(['mean', 'median']).reset_index()\n",
    "\n",
    "# Pivot for easier comparison\n",
    "pivot_stats = aug_stats.pivot(index='heatmap', columns='augmentation', values='mean')\n",
    "pivot_stats.columns = ['Average (No Aug)', 'Average (Yes Aug)']\n",
    "pivot_stats['Difference'] = pivot_stats['Average (Yes Aug)'] - pivot_stats['Average (No Aug)']\n",
    "\n",
    "# Median version (optional)\n",
    "pivot_median = aug_stats.pivot(index='heatmap', columns='augmentation', values='median')\n",
    "pivot_median.columns = ['Median (No Aug)', 'Median (Yes Aug)']\n",
    "pivot_median['Difference'] = pivot_median['Median (Yes Aug)'] - pivot_median['Median (No Aug)']\n",
    "\n",
    "# Display both\n",
    "print(\"Average Score Comparison:\")\n",
    "print(pivot_stats)\n",
    "print(\"\\nMedian Score Comparison:\")\n",
    "print(pivot_median)\n"
   ]
  }
 ],
 "metadata": {
  "kernelspec": {
   "display_name": "Python 3",
   "language": "python",
   "name": "python3"
  },
  "language_info": {
   "codemirror_mode": {
    "name": "ipython",
    "version": 3
   },
   "file_extension": ".py",
   "mimetype": "text/x-python",
   "name": "python",
   "nbconvert_exporter": "python",
   "pygments_lexer": "ipython3",
   "version": "3.13.3"
  }
 },
 "nbformat": 4,
 "nbformat_minor": 2
}
